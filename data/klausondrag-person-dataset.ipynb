{
 "cells": [
  {
   "cell_type": "code",
   "execution_count": null,
   "metadata": {},
   "outputs": [],
   "source": [
    "from IPython.core.display import display, HTML\n",
    "display(HTML(\"<style>.container { width:80% !important; }</style>\"))"
   ]
  },
  {
   "cell_type": "code",
   "execution_count": null,
   "metadata": {},
   "outputs": [],
   "source": [
    "from pathlib import Path\n",
    "import sys\n",
    "sys.path.insert(0, \"..\")\n",
    "\n",
    "import cv2\n",
    "import dlib\n",
    "import numpy as np\n",
    "from tqdm import tqdm\n",
    "\n",
    "from data import plot, Process300VW\n",
    "from demo import extract\n",
    "from utils import constants, data_utils, personal_constants"
   ]
  },
  {
   "cell_type": "code",
   "execution_count": null,
   "metadata": {},
   "outputs": [],
   "source": [
    "base_path = Path('/home/klaus/dev/5_master/5204PRAI6Y-project-ai/data/local_data')\n",
    "input_path = base_path / 'person_raw'\n",
    "temp_path = base_path / 'person_temp'\n",
    "output_path = base_path / f'person_processed_dim{constants.DATASET_300VW_IMSIZE}'\n",
    "predictor_path = './local_data/shape_predictor_68_face_landmarks.dat'\n",
    "FPS = 30"
   ]
  },
  {
   "cell_type": "code",
   "execution_count": null,
   "metadata": {},
   "outputs": [],
   "source": [
    "detector = dlib.get_frontal_face_detector()\n",
    "predictor = dlib.shape_predictor(predictor_path)"
   ]
  },
  {
   "cell_type": "code",
   "execution_count": null,
   "metadata": {},
   "outputs": [],
   "source": [
    "all_videos = sorted([p for p in input_path.iterdir() if p.is_dir()])"
   ]
  },
  {
   "cell_type": "code",
   "execution_count": null,
   "metadata": {},
   "outputs": [],
   "source": [
    "for video_dir in tqdm(all_videos):\n",
    "    temp_dir = temp_path / video_dir.stem\n",
    "\n",
    "    if not temp_dir.exists():\n",
    "        temp_path.mkdir(parents=True, exist_ok=True)\n",
    "        video_path = video_dir / 'video.webm'\n",
    "        video = cv2.VideoCapture(str(video_path))\n",
    "        counter = 1\n",
    "        success, image = video.read()\n",
    "        while success == 1:\n",
    "            frame_output_path = temp_dir / 'images' / f'{counter:06d}.jpg'\n",
    "            frame_output_path.parent.mkdir(parents=True, exist_ok=True)\n",
    "            cv2.imwrite(str(frame_output_path), image, [int(cv2.IMWRITE_JPEG_QUALITY), constants.DATASET_300VW_IMAGE_QUALITY])\n",
    "            counter += 1\n",
    "            success, image = video.read()"
   ]
  },
  {
   "cell_type": "code",
   "execution_count": null,
   "metadata": {},
   "outputs": [],
   "source": [
    "all_frames = sorted([p for p in temp_path.iterdir() if p.is_dir()])\n",
    "n_images_per_video = [\n",
    "    len(list((frames_path / 'images').glob('*.jpg')))\n",
    "    for frames_path in tqdm(all_frames, desc='frame')\n",
    "]\n",
    "n_images = sum(n_images_per_video)\n",
    "\n",
    "print(f'n images: {n_images}')"
   ]
  },
  {
   "cell_type": "code",
   "execution_count": null,
   "metadata": {},
   "outputs": [],
   "source": [
    "switch_train_test_after_n = FPS * 10"
   ]
  },
  {
   "cell_type": "code",
   "execution_count": null,
   "metadata": {
    "scrolled": true
   },
   "outputs": [],
   "source": [
    "for frames_input_path in tqdm(all_frames, desc='video'):\n",
    "    train_output_dir = output_path / (frames_input_path.stem + '_train')\n",
    "    train_frame_output_dir = train_output_dir / 'images'\n",
    "    train_landmarks_output_path = train_output_dir / 'annotations.npy'\n",
    "    train_frame_output_dir.mkdir(parents=True, exist_ok=True)\n",
    "    train_landmarks_output_path.parent.mkdir(parents=True, exist_ok=True)\n",
    "    train_landmarks = np.empty((n_images, constants.DATASET_300VW_N_LANDMARKS, 2))\n",
    "    train_counter = 1\n",
    "    \n",
    "    test_output_dir = output_path / (frames_input_path.stem + '_test')\n",
    "    test_frame_output_dir = test_output_dir / 'images'\n",
    "    test_landmarks_output_path = test_output_dir / 'annotations.npy'\n",
    "    test_frame_output_dir.mkdir(parents=True, exist_ok=True)\n",
    "    test_landmarks_output_path.parent.mkdir(parents=True, exist_ok=True)    \n",
    "    test_landmarks = np.empty((n_images, constants.DATASET_300VW_N_LANDMARKS, 2))\n",
    "    test_counter = 1\n",
    "    \n",
    "    is_train_image = True\n",
    "    for image_input_path in tqdm(sorted(list((frames_input_path / 'images').glob('*.jpg'))),\n",
    "                                 desc='frame', leave=False):\n",
    "        \n",
    "        image = cv2.imread(str(image_input_path))\n",
    "        bounding_boxes = detector(image, 1)\n",
    "        dlib_landmarks = [\n",
    "            predictor(image, rectangle).parts() for rectangle in bounding_boxes\n",
    "        ]\n",
    "        if len(dlib_landmarks) != 1 or len(dlib_landmarks[0]) != constants.DATASET_300VW_N_LANDMARKS:\n",
    "            continue\n",
    "        image_landmarks = np.asarray([(lm.x, lm.y) for lm in dlib_landmarks[0]], dtype=float)\n",
    "\n",
    "        image_box = data_utils.landmarks_to_box(image_landmarks, image.shape)\n",
    "        extracted_image = data_utils.extract(image, image_box)\n",
    "        extracted_landmarks = data_utils.offset_landmarks(image_landmarks, image_box)\n",
    "\n",
    "        output = Process300VW._rescale_image(extracted_image)\n",
    "        output_landmarks = data_utils.rescale_landmarks(\n",
    "            extracted_landmarks, extracted_image.shape, constants.DATASET_300VW_IMSIZE\n",
    "        )\n",
    "\n",
    "        # if train_counter == 1 and test_counter == 1:\n",
    "#             plot(image, image_landmarks, image_box)\n",
    "#             plot(output, output_landmarks)\n",
    "        \n",
    "        if is_train_image:\n",
    "            frame_output_path = train_frame_output_dir\n",
    "            counter = train_counter\n",
    "        else:\n",
    "            frame_output_path = test_frame_output_dir\n",
    "            counter = test_counter\n",
    "        \n",
    "        frame_output_path = frame_output_path / f'{counter:06d}.jpg'\n",
    "        cv2.imwrite(str(frame_output_path), output, [int(cv2.IMWRITE_JPEG_QUALITY), constants.DATASET_300VW_IMAGE_QUALITY])\n",
    "        \n",
    "        # index at counter -1 because they start at 1\n",
    "        if is_train_image:\n",
    "            train_landmarks[train_counter-1] = output_landmarks\n",
    "            train_counter += 1\n",
    "        else:\n",
    "            test_landmarks[test_counter-1] = output_landmarks\n",
    "            test_counter += 1\n",
    "        \n",
    "        # -2 because they start at 1\n",
    "        if ((train_counter + test_counter - 2) % switch_train_test_after_n) == 0:\n",
    "            is_train_image = not is_train_image\n",
    "        \n",
    "\n",
    "    train_landmarks = train_landmarks[:train_counter]\n",
    "    test_landmarks = test_landmarks[:test_counter]\n",
    "    np.save(str(train_landmarks_output_path), train_landmarks)\n",
    "    np.save(str(test_landmarks_output_path), test_landmarks)"
   ]
  },
  {
   "cell_type": "code",
   "execution_count": null,
   "metadata": {},
   "outputs": [],
   "source": []
  },
  {
   "cell_type": "code",
   "execution_count": null,
   "metadata": {},
   "outputs": [],
   "source": []
  },
  {
   "cell_type": "code",
   "execution_count": null,
   "metadata": {},
   "outputs": [],
   "source": []
  }
 ],
 "metadata": {
  "kernelspec": {
   "display_name": "Python 3",
   "language": "python",
   "name": "python3"
  },
  "language_info": {
   "codemirror_mode": {
    "name": "ipython",
    "version": 3
   },
   "file_extension": ".py",
   "mimetype": "text/x-python",
   "name": "python",
   "nbconvert_exporter": "python",
   "pygments_lexer": "ipython3",
   "version": "3.6.7"
  }
 },
 "nbformat": 4,
 "nbformat_minor": 1
}
